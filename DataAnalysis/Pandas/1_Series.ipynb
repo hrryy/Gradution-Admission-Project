{
 "cells": [
  {
   "cell_type": "markdown",
   "id": "45e2502a",
   "metadata": {},
   "source": [
    "# Pandas\n",
    "\n",
    "A library for data analysis in python"
   ]
  },
  {
   "cell_type": "code",
   "execution_count": 1,
   "id": "a59e5933",
   "metadata": {},
   "outputs": [],
   "source": [
    "import pandas as pd"
   ]
  },
  {
   "cell_type": "markdown",
   "id": "a36d15d6",
   "metadata": {},
   "source": [
    "# 1. Series\n",
    "\n",
    "Array (integer, float, string,..)\n",
    "\n",
    "## Create Series Object\n"
   ]
  },
  {
   "cell_type": "code",
   "execution_count": 3,
   "id": "75dd8eb9",
   "metadata": {},
   "outputs": [
    {
     "name": "stdout",
     "output_type": "stream",
     "text": [
      "0    -5\n",
      "1     5\n",
      "2    10\n",
      "3    25\n",
      "dtype: int64\n"
     ]
    }
   ],
   "source": [
    "temp = pd.Series([-5,5,10,25])\n",
    "print(temp)"
   ]
  },
  {
   "cell_type": "code",
   "execution_count": 4,
   "id": "08264ade",
   "metadata": {},
   "outputs": [
    {
     "data": {
      "text/plain": [
       "-5"
      ]
     },
     "execution_count": 4,
     "metadata": {},
     "output_type": "execute_result"
    }
   ],
   "source": [
    "temp[0]"
   ]
  },
  {
   "cell_type": "code",
   "execution_count": 5,
   "id": "a22894f3",
   "metadata": {},
   "outputs": [
    {
     "data": {
      "text/plain": [
       "25"
      ]
     },
     "execution_count": 5,
     "metadata": {},
     "output_type": "execute_result"
    }
   ],
   "source": [
    "temp[3]"
   ]
  },
  {
   "cell_type": "code",
   "execution_count": 6,
   "id": "be98ea12",
   "metadata": {},
   "outputs": [
    {
     "data": {
      "text/plain": [
       "0    -5\n",
       "1     5\n",
       "2    10\n",
       "dtype: int64"
      ]
     },
     "execution_count": 6,
     "metadata": {},
     "output_type": "execute_result"
    }
   ],
   "source": [
    "temp[0:3]"
   ]
  },
  {
   "cell_type": "markdown",
   "id": "b6ebe63e",
   "metadata": {},
   "source": [
    "# Series Index"
   ]
  },
  {
   "cell_type": "code",
   "execution_count": 10,
   "id": "f0ea3a1e",
   "metadata": {},
   "outputs": [
    {
     "name": "stdout",
     "output_type": "stream",
     "text": [
      "Jan    -5\n",
      "Feb     5\n",
      "Mar    10\n",
      "Apr    25\n",
      "dtype: int64\n"
     ]
    }
   ],
   "source": [
    "temp = pd.Series([-5,5,10,25],index=[\"Jan\",\"Feb\",\"Mar\",\"Apr\"])\n",
    "print(temp)"
   ]
  },
  {
   "cell_type": "code",
   "execution_count": 11,
   "id": "a9ea67de",
   "metadata": {},
   "outputs": [
    {
     "data": {
      "text/plain": [
       "10"
      ]
     },
     "execution_count": 11,
     "metadata": {},
     "output_type": "execute_result"
    }
   ],
   "source": [
    "temp[\"Mar\"]"
   ]
  }
 ],
 "metadata": {
  "kernelspec": {
   "display_name": "Python 3 (ipykernel)",
   "language": "python",
   "name": "python3"
  },
  "language_info": {
   "codemirror_mode": {
    "name": "ipython",
    "version": 3
   },
   "file_extension": ".py",
   "mimetype": "text/x-python",
   "name": "python",
   "nbconvert_exporter": "python",
   "pygments_lexer": "ipython3",
   "version": "3.9.12"
  }
 },
 "nbformat": 4,
 "nbformat_minor": 5
}
